{
 "cells": [
  {
   "cell_type": "code",
   "execution_count": 1,
   "metadata": {},
   "outputs": [],
   "source": [
    "from U2GNN_pytorch import util"
   ]
  },
  {
   "cell_type": "code",
   "execution_count": 22,
   "metadata": {},
   "outputs": [
    {
     "name": "stdout",
     "output_type": "stream",
     "text": [
      "loading data\n",
      "# classes: 2\n",
      "# feature_size: 19\n",
      "# max nodes : 109\n",
      "# min nodes : 2\n",
      "# maximum node tag: 19\n",
      "# data: 344\n"
     ]
    }
   ],
   "source": [
    "data = util.load_data(\"PTC\",False, \".\")"
   ]
  },
  {
   "cell_type": "code",
   "execution_count": 23,
   "metadata": {},
   "outputs": [
    {
     "data": {
      "text/plain": [
       "2"
      ]
     },
     "execution_count": 23,
     "metadata": {},
     "output_type": "execute_result"
    }
   ],
   "source": [
    "data[1]"
   ]
  },
  {
   "cell_type": "code",
   "execution_count": 11,
   "metadata": {},
   "outputs": [
    {
     "data": {
      "text/plain": [
       "{'label': 0,\n",
       " 'g': <networkx.classes.graph.Graph at 0x7f23bc2a8780>,\n",
       " 'node_tags': [0, 1, 0, 0, 2],\n",
       " 'neighbors': [[1], [0, 2, 3, 4], [1], [1], [1]],\n",
       " 'node_features': array([[1., 0., 0., 0., 0., 0., 0., 0., 0., 0., 0., 0., 0., 0., 0., 0.,\n",
       "         0., 0., 0.],\n",
       "        [0., 1., 0., 0., 0., 0., 0., 0., 0., 0., 0., 0., 0., 0., 0., 0.,\n",
       "         0., 0., 0.],\n",
       "        [1., 0., 0., 0., 0., 0., 0., 0., 0., 0., 0., 0., 0., 0., 0., 0.,\n",
       "         0., 0., 0.],\n",
       "        [1., 0., 0., 0., 0., 0., 0., 0., 0., 0., 0., 0., 0., 0., 0., 0.,\n",
       "         0., 0., 0.],\n",
       "        [0., 0., 1., 0., 0., 0., 0., 0., 0., 0., 0., 0., 0., 0., 0., 0.,\n",
       "         0., 0., 0.]], dtype=float32),\n",
       " 'edge_mat': array([[0, 1, 1, 1, 1, 2, 3, 4],\n",
       "        [1, 2, 3, 4, 0, 1, 1, 1]], dtype=int32),\n",
       " 'max_neighbor': 4,\n",
       " 'knn_g': None,\n",
       " 'attr_gs': [],\n",
       " 'edge_mat_knn': None,\n",
       " 'edge_mat_attrs': []}"
      ]
     },
     "execution_count": 11,
     "metadata": {},
     "output_type": "execute_result"
    }
   ],
   "source": [
    "data[0][0].__dict__"
   ]
  },
  {
   "cell_type": "code",
   "execution_count": 12,
   "metadata": {},
   "outputs": [
    {
     "name": "stderr",
     "output_type": "stream",
     "text": [
      "Using backend: pytorch\n"
     ]
    }
   ],
   "source": [
    "import dgl"
   ]
  },
  {
   "cell_type": "code",
   "execution_count": 13,
   "metadata": {},
   "outputs": [
    {
     "ename": "AttributeError",
     "evalue": "module 'dgl' has no attribute 'data'",
     "output_type": "error",
     "traceback": [
      "\u001b[0;31m---------------------------------------------------------------------------\u001b[0m",
      "\u001b[0;31mAttributeError\u001b[0m                            Traceback (most recent call last)",
      "\u001b[0;32m<ipython-input-13-a50eac9f1fa3>\u001b[0m in \u001b[0;36m<module>\u001b[0;34m\u001b[0m\n\u001b[0;32m----> 1\u001b[0;31m \u001b[0mdata\u001b[0m \u001b[0;34m=\u001b[0m \u001b[0mdgl\u001b[0m\u001b[0;34m.\u001b[0m\u001b[0mdata\u001b[0m\u001b[0;34m.\u001b[0m\u001b[0mTUDataset\u001b[0m\u001b[0;34m(\u001b[0m\u001b[0;34m'DD'\u001b[0m\u001b[0;34m)\u001b[0m\u001b[0;34m\u001b[0m\u001b[0;34m\u001b[0m\u001b[0m\n\u001b[0m",
      "\u001b[0;31mAttributeError\u001b[0m: module 'dgl' has no attribute 'data'"
     ]
    }
   ],
   "source": [
    "data = dgl.data.TUDataset('DD')"
   ]
  },
  {
   "cell_type": "code",
   "execution_count": 14,
   "metadata": {},
   "outputs": [
    {
     "data": {
      "text/plain": [
       "'0.4.3post2'"
      ]
     },
     "execution_count": 14,
     "metadata": {},
     "output_type": "execute_result"
    }
   ],
   "source": [
    "dgl.__version__"
   ]
  },
  {
   "cell_type": "code",
   "execution_count": 15,
   "metadata": {},
   "outputs": [],
   "source": [
    "from dgl.data import TUDataset"
   ]
  },
  {
   "cell_type": "code",
   "execution_count": 24,
   "metadata": {},
   "outputs": [],
   "source": [
    "data_dgl = TUDataset('AIDS')"
   ]
  },
  {
   "cell_type": "code",
   "execution_count": 25,
   "metadata": {},
   "outputs": [
    {
     "data": {
      "text/plain": [
       "dict_keys(['name', 'extract_dir', 'max_num_node', 'num_labels', 'graph_labels', 'attr_dict', 'graph_lists'])"
      ]
     },
     "execution_count": 25,
     "metadata": {},
     "output_type": "execute_result"
    }
   ],
   "source": [
    "data_dgl.__dict__.keys()"
   ]
  },
  {
   "cell_type": "code",
   "execution_count": 61,
   "metadata": {},
   "outputs": [
    {
     "data": {
      "text/plain": [
       "{'node_labels': ('ndata', 'node_labels'),\n",
       " 'node_attributes': ('ndata', 'node_attr'),\n",
       " 'edge_labels': ('edata', 'edge_labels'),\n",
       " 'edge_attributes': ('edata', 'node_labels')}"
      ]
     },
     "execution_count": 61,
     "metadata": {},
     "output_type": "execute_result"
    }
   ],
   "source": [
    "#data_dgl.__dict__[\"graph_lists\"][0].ndata[\"node_labels\"]\n",
    "data_dgl.__dict__[\"attr_dict\"]"
   ]
  },
  {
   "cell_type": "code",
   "execution_count": 98,
   "metadata": {},
   "outputs": [
    {
     "data": {
      "text/plain": [
       "2"
      ]
     },
     "execution_count": 98,
     "metadata": {},
     "output_type": "execute_result"
    }
   ],
   "source": [
    "data_dgl.num_labels[0].item()"
   ]
  },
  {
   "cell_type": "code",
   "execution_count": 47,
   "metadata": {},
   "outputs": [
    {
     "data": {
      "text/plain": [
       "False"
      ]
     },
     "execution_count": 47,
     "metadata": {},
     "output_type": "execute_result"
    }
   ],
   "source": [
    "\"node_attr\" in data_dgl.__dict__[\"graph_lists\"][0].ndata.keys()"
   ]
  },
  {
   "cell_type": "code",
   "execution_count": 110,
   "metadata": {},
   "outputs": [],
   "source": [
    "import numpy as np\n",
    "from U2GNN_pytorch import util\n",
    "def get_onehot_features(graph_info,max_node_tag):\n",
    "    feature_size = max_node_tag\n",
    "    '''\n",
    "    if(\"node_attr\" in graph_info.ndata.keys()):\n",
    "        feature_size += graph_info.ndata[\"node_attr\"].shape[1]\n",
    "    np_a = np.zeros(feature_size )\n",
    "    '''\n",
    "    node_feats = []\n",
    "    for node in range(graph_info.ndata[\"node_labels\"].shape[0]):\n",
    "        cur_feat = np.zeros(feature_size)\n",
    "        cur_label = graph_info.ndata[\"node_labels\"][node].item()\n",
    "        cur_feat[cur_label] = 1\n",
    "        assert cur_feat.nonzero()[0] == cur_label\n",
    "        node_feats.append(cur_feat)\n",
    "    \n",
    "    return np.stack(node_feats,axis = 0)\n",
    "\n",
    "\n",
    "def make_edge_mat_neighs(g_svg):\n",
    "        #add labels and edge_mat       \n",
    "    g = g_svg\n",
    "    g.neighbors = [[] for i in range(len(g.g))]\n",
    "    for i, j in g.g.edges():\n",
    "        g.neighbors[i].append(j)\n",
    "        g.neighbors[j].append(i)\n",
    "    degree_list = []\n",
    "    for i in range(len(g.g)):\n",
    "        g.neighbors[i] = g.neighbors[i]\n",
    "        degree_list.append(len(g.neighbors[i]))\n",
    "    g.max_neighbor = max(degree_list)\n",
    "    \n",
    "    \n",
    "\n",
    "    edges = [list(pair) for pair in g.g.edges()]\n",
    "    edges.extend([[i, j] for j, i in edges])\n",
    "\n",
    "    deg_list = list(dict(g.g.degree(range(len(g.g)))).values())\n",
    "\n",
    "    g.edge_mat = np.transpose(np.array(edges, dtype=np.int32), (1,0))\n",
    "\n",
    "    "
   ]
  },
  {
   "cell_type": "code",
   "execution_count": 111,
   "metadata": {},
   "outputs": [],
   "source": [
    "\n",
    "def load_tu_dataset(dataset_name):\n",
    "    data_dgl = TUDataset(dataset_name)\n",
    "    node_labels = False\n",
    "    if(\"node_labels\" in data_dgl.__dict__[\"attr_dict\"].keys()):\n",
    "        node_labels = True\n",
    "    if(node_labels):\n",
    "        num_labels = data_dgl.num_labels[0]\n",
    "        max_node_tag = 0\n",
    "        for g_info in data_dgl.__dict__['graph_lists']:\n",
    "            cur_tag= g_info.ndata['node_labels'].max().item()+1\n",
    "            if(cur_tag > max_node_tag ):\n",
    "                max_node_tag = cur_tag\n",
    "                #print(cur_tag)\n",
    "\n",
    "    \n",
    "    g_list = []\n",
    "    max_nodes = 0\n",
    "    min_nodes = 1000000\n",
    "    for g_l , g_info in zip(data_dgl.graph_labels, data_dgl.graph_lists):\n",
    "        node_feats = None\n",
    "        node_tags = None\n",
    "        g_nx = g_info.to_networkx()\n",
    "        \n",
    "        if(node_labels):\n",
    "            #print(g_info.__dict__)\n",
    "            node_feats = get_onehot_features(g_info, max_node_tag)\n",
    "            node_tags = g_info.ndata[\"node_labels\"].numpy().flatten()\n",
    "            \n",
    "        if(\"node_attr\" in g_info.ndata.keys()):\n",
    "            node_feats = np.concatenate([node_feats,g_info.ndata[\"node_attr\"].numpy()],axis = 1)\n",
    "        l = g_l[0]\n",
    "        g_svg = util.S2VGraph(g_nx, l, node_tags)\n",
    "        g_svg.node_features = node_feats\n",
    "        #g_svg.neighbors = l_neighs\n",
    "        make_edge_mat_neighs(g_svg)\n",
    "        #print(g_svg.__dict__)\n",
    "        \n",
    "        g_list.append(g_svg)\n",
    "        if(g_svg.node_features.shape[0]>max_nodes):\n",
    "            max_nodes = g_svg.node_features.shape[0]\n",
    "        if(g_svg.node_features.shape[0]<min_nodes):\n",
    "            min_nodes = g_svg.node_features.shape[0]\n",
    "    \n",
    "    print('# classes: %d' % data_dgl.num_labels[0].item())\n",
    "    print('# feature_size: %d' % g_list[0].node_features.shape[1])\n",
    "    print('# max nodes : %d' % max_nodes)\n",
    "    print('# min nodes : %d' % min_nodes)\n",
    "    \n",
    "    print(\"# data: %d\" % len(g_list))\n",
    "    return g_list, data_dgl.num_labels[0].item()\n"
   ]
  },
  {
   "cell_type": "code",
   "execution_count": 102,
   "metadata": {},
   "outputs": [
    {
     "data": {
      "text/plain": [
       "2000"
      ]
     },
     "execution_count": 102,
     "metadata": {},
     "output_type": "execute_result"
    }
   ],
   "source": [
    "res = load_tu_dataset(\"AIDS\")"
   ]
  },
  {
   "cell_type": "code",
   "execution_count": 104,
   "metadata": {},
   "outputs": [
    {
     "data": {
      "text/plain": [
       "{'label': 0,\n",
       " 'g': <networkx.classes.multidigraph.MultiDiGraph at 0x7f23248ab860>,\n",
       " 'node_tags': array([0, 0, 0, 0, 0, 0, 1, 0, 0, 0, 1, 1, 0, 0, 0, 0, 0, 0, 0, 0, 1, 0,\n",
       "        1, 0, 1, 1, 0, 0, 0, 0, 0, 0, 0, 1, 0, 1, 0, 1, 1, 0, 0, 0, 0, 0,\n",
       "        0, 1, 0]),\n",
       " 'neighbors': [[1, 5, 1, 5],\n",
       "  [0, 0, 2, 11, 2, 11],\n",
       "  [1, 1, 3, 14, 3, 14],\n",
       "  [2, 2, 4, 6, 4, 6],\n",
       "  [3, 3, 9, 5, 5, 9],\n",
       "  [0, 4, 0, 4],\n",
       "  [3, 3, 7, 7],\n",
       "  [6, 6, 8, 10, 8, 10],\n",
       "  [7, 7, 45, 9, 9, 45],\n",
       "  [4, 8, 4, 8],\n",
       "  [7, 7],\n",
       "  [1, 1, 12, 12],\n",
       "  [11, 11, 13, 26, 27, 13, 26, 27],\n",
       "  [12, 12, 37, 14, 14, 37],\n",
       "  [2, 13, 2, 13, 24, 24],\n",
       "  [16, 20, 21, 23, 16, 20, 21, 23],\n",
       "  [15, 15, 17, 17],\n",
       "  [16, 16, 18, 18],\n",
       "  [17, 17, 19, 43, 21, 19, 21, 43],\n",
       "  [18, 18, 22, 20, 20, 22],\n",
       "  [15, 19, 15, 19],\n",
       "  [15, 18, 15, 18, 41, 42, 41, 42],\n",
       "  [19, 19],\n",
       "  [15, 15, 25, 24, 24, 25],\n",
       "  [14, 23, 14, 23],\n",
       "  [23, 23],\n",
       "  [12, 12],\n",
       "  [12, 12],\n",
       "  [29, 33, 34, 36, 29, 33, 34, 36],\n",
       "  [28, 28, 30, 30],\n",
       "  [29, 29, 31, 31],\n",
       "  [30, 30, 32, 44, 34, 32, 34, 44],\n",
       "  [31, 31, 35, 33, 33, 35],\n",
       "  [28, 32, 28, 32],\n",
       "  [28, 31, 28, 31, 39, 40, 39, 40],\n",
       "  [32, 32],\n",
       "  [28, 28, 38, 37, 37, 38],\n",
       "  [13, 36, 13, 36],\n",
       "  [36, 36],\n",
       "  [34, 34],\n",
       "  [34, 34],\n",
       "  [21, 21],\n",
       "  [21, 21],\n",
       "  [18, 18],\n",
       "  [31, 31],\n",
       "  [8, 8, 46, 46],\n",
       "  [45, 45]],\n",
       " 'node_features': array([[ 1.,  0.,  0., ...,  0.,  9., -3.],\n",
       "        [ 1.,  0.,  0., ...,  0.,  8., -3.],\n",
       "        [ 1.,  0.,  0., ...,  0.,  8., -2.],\n",
       "        ...,\n",
       "        [ 1.,  0.,  0., ...,  0.,  3.,  0.],\n",
       "        [ 0.,  1.,  0., ...,  0., 12.,  0.],\n",
       "        [ 1.,  0.,  0., ...,  0., 13.,  0.]]),\n",
       " 'edge_mat': array([[ 0,  0,  1,  1,  1,  2,  2,  2,  3,  3,  3,  4,  4,  4,  5,  5,\n",
       "          6,  6,  7,  7,  7,  8,  8,  8,  9,  9, 10, 11, 11, 12, 12, 12,\n",
       "         12, 13, 13, 13, 14, 14, 14, 15, 15, 15, 15, 16, 16, 17, 17, 18,\n",
       "         18, 18, 18, 19, 19, 19, 20, 20, 21, 21, 21, 21, 22, 23, 23, 23,\n",
       "         24, 24, 25, 26, 27, 28, 28, 28, 28, 29, 29, 30, 30, 31, 31, 31,\n",
       "         31, 32, 32, 32, 33, 33, 34, 34, 34, 34, 35, 36, 36, 36, 37, 37,\n",
       "         38, 39, 40, 41, 42, 43, 44, 45, 45, 46,  1,  5,  0,  2, 11,  1,\n",
       "          3, 14,  2,  4,  6,  3,  9,  5,  0,  4,  3,  7,  6,  8, 10,  7,\n",
       "         45,  9,  4,  8,  7,  1, 12, 11, 13, 26, 27, 12, 37, 14,  2, 13,\n",
       "         24, 16, 20, 21, 23, 15, 17, 16, 18, 17, 19, 43, 21, 18, 22, 20,\n",
       "         15, 19, 15, 18, 41, 42, 19, 15, 25, 24, 14, 23, 23, 12, 12, 29,\n",
       "         33, 34, 36, 28, 30, 29, 31, 30, 32, 44, 34, 31, 35, 33, 28, 32,\n",
       "         28, 31, 39, 40, 32, 28, 38, 37, 13, 36, 36, 34, 34, 21, 21, 18,\n",
       "         31,  8, 46, 45],\n",
       "        [ 1,  5,  0,  2, 11,  1,  3, 14,  2,  4,  6,  3,  9,  5,  0,  4,\n",
       "          3,  7,  6,  8, 10,  7, 45,  9,  4,  8,  7,  1, 12, 11, 13, 26,\n",
       "         27, 12, 37, 14,  2, 13, 24, 16, 20, 21, 23, 15, 17, 16, 18, 17,\n",
       "         19, 43, 21, 18, 22, 20, 15, 19, 15, 18, 41, 42, 19, 15, 25, 24,\n",
       "         14, 23, 23, 12, 12, 29, 33, 34, 36, 28, 30, 29, 31, 30, 32, 44,\n",
       "         34, 31, 35, 33, 28, 32, 28, 31, 39, 40, 32, 28, 38, 37, 13, 36,\n",
       "         36, 34, 34, 21, 21, 18, 31,  8, 46, 45,  0,  0,  1,  1,  1,  2,\n",
       "          2,  2,  3,  3,  3,  4,  4,  4,  5,  5,  6,  6,  7,  7,  7,  8,\n",
       "          8,  8,  9,  9, 10, 11, 11, 12, 12, 12, 12, 13, 13, 13, 14, 14,\n",
       "         14, 15, 15, 15, 15, 16, 16, 17, 17, 18, 18, 18, 18, 19, 19, 19,\n",
       "         20, 20, 21, 21, 21, 21, 22, 23, 23, 23, 24, 24, 25, 26, 27, 28,\n",
       "         28, 28, 28, 29, 29, 30, 30, 31, 31, 31, 31, 32, 32, 32, 33, 33,\n",
       "         34, 34, 34, 34, 35, 36, 36, 36, 37, 37, 38, 39, 40, 41, 42, 43,\n",
       "         44, 45, 45, 46]], dtype=int32),\n",
       " 'max_neighbor': 8,\n",
       " 'knn_g': None,\n",
       " 'attr_gs': [],\n",
       " 'edge_mat_knn': None,\n",
       " 'edge_mat_attrs': []}"
      ]
     },
     "execution_count": 104,
     "metadata": {},
     "output_type": "execute_result"
    }
   ],
   "source": [
    "res[0][0].__dict__"
   ]
  },
  {
   "cell_type": "code",
   "execution_count": null,
   "metadata": {},
   "outputs": [],
   "source": []
  }
 ],
 "metadata": {
  "kernelspec": {
   "display_name": "Python 3",
   "language": "python",
   "name": "python3"
  },
  "language_info": {
   "codemirror_mode": {
    "name": "ipython",
    "version": 3
   },
   "file_extension": ".py",
   "mimetype": "text/x-python",
   "name": "python",
   "nbconvert_exporter": "python",
   "pygments_lexer": "ipython3",
   "version": "3.6.12"
  }
 },
 "nbformat": 4,
 "nbformat_minor": 4
}
