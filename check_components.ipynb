{
 "cells": [
  {
   "cell_type": "code",
   "execution_count": 2,
   "metadata": {},
   "outputs": [],
   "source": [
    "from U2GNN_pytorch.util import S2VGraph\n",
    "import networkx as nx\n",
    "import numpy as np"
   ]
  },
  {
   "cell_type": "code",
   "execution_count": 3,
   "metadata": {},
   "outputs": [],
   "source": [
    "def load_data(path,dataset, degree_as_tag):\n",
    "    '''\n",
    "        dataset: name of dataset\n",
    "        test_proportion: ratio of test train split\n",
    "        seed: random seed for random splitting of dataset\n",
    "    '''\n",
    "\n",
    "    print('loading data')\n",
    "    g_list = []\n",
    "    label_dict = {}\n",
    "    feat_dict = {}\n",
    "\n",
    "    with open('%s/dataset/%s/%s.txt' % (path,dataset, dataset), 'r') as f:\n",
    "        n_g = int(f.readline().strip())\n",
    "        for i in range(n_g):\n",
    "            row = f.readline().strip().split()\n",
    "            n, l = [int(w) for w in row]\n",
    "            if not l in label_dict:\n",
    "                mapped = len(label_dict)\n",
    "                label_dict[l] = mapped\n",
    "            g = nx.Graph()\n",
    "            node_tags = []\n",
    "            node_features = []\n",
    "            n_edges = 0\n",
    "            for j in range(n):\n",
    "                g.add_node(j)\n",
    "                row = f.readline().strip().split()\n",
    "                tmp = int(row[1]) + 2\n",
    "                if tmp == len(row):\n",
    "                    # no node attributes\n",
    "                    row = [int(w) for w in row]\n",
    "                    attr = None\n",
    "                else:\n",
    "                    row, attr = [int(w) for w in row[:tmp]], np.array([float(w) for w in row[tmp:]])\n",
    "                if not row[0] in feat_dict:\n",
    "                    mapped = len(feat_dict)\n",
    "                    feat_dict[row[0]] = mapped\n",
    "                node_tags.append(feat_dict[row[0]])\n",
    "\n",
    "                if tmp > len(row):\n",
    "                    node_features.append(attr)\n",
    "\n",
    "                n_edges += row[1]\n",
    "                for k in range(2, len(row)):\n",
    "                    g.add_edge(j, row[k])\n",
    "\n",
    "            if node_features != []:\n",
    "                node_features = np.stack(node_features)\n",
    "                node_feature_flag = True\n",
    "            else:\n",
    "                node_features = None\n",
    "                node_feature_flag = False\n",
    "\n",
    "            assert len(g) == n\n",
    "\n",
    "            g_list.append(S2VGraph(g, l, node_tags))\n",
    "    #return g_list, len(label_dict), node_features\n",
    "    \n",
    "    #add labels and edge_mat       \n",
    "    for g in g_list:\n",
    "        g.neighbors = [[] for i in range(len(g.g))]\n",
    "        for i, j in g.g.edges():\n",
    "            g.neighbors[i].append(j)\n",
    "            g.neighbors[j].append(i)\n",
    "        degree_list = []\n",
    "        for i in range(len(g.g)):\n",
    "            g.neighbors[i] = g.neighbors[i]\n",
    "            degree_list.append(len(g.neighbors[i]))\n",
    "        g.max_neighbor = max(degree_list)\n",
    "\n",
    "        g.label = label_dict[g.label]\n",
    "\n",
    "        edges = [list(pair) for pair in g.g.edges()]\n",
    "        edges.extend([[i, j] for j, i in edges])\n",
    "\n",
    "        deg_list = list(dict(g.g.degree(range(len(g.g)))).values())\n",
    "\n",
    "        g.edge_mat = np.transpose(np.array(edges, dtype=np.int32), (1,0))\n",
    "\n",
    "    if degree_as_tag:\n",
    "        for g in g_list:\n",
    "            g.node_tags = list(dict(g.g.degree).values())\n",
    "\n",
    "    #Extracting unique tag labels   \n",
    "    tagset = set([])\n",
    "    for g in g_list:\n",
    "        tagset = tagset.union(set(g.node_tags))\n",
    "\n",
    "    tagset = list(tagset)\n",
    "    tag2index = {tagset[i]:i for i in range(len(tagset))}\n",
    "\n",
    "    for g in g_list:\n",
    "        g.node_features = np.zeros((len(g.node_tags), len(tagset)), dtype=np.float32)\n",
    "        g.node_features[range(len(g.node_tags)), [tag2index[tag] for tag in g.node_tags]] = 1\n",
    "\n",
    "\n",
    "    print('# classes: %d' % len(label_dict))\n",
    "    print('# maximum node tag: %d' % len(tagset))\n",
    "\n",
    "    print(\"# data: %d\" % len(g_list))\n",
    "\n",
    "    return g_list, len(label_dict)\n",
    "    "
   ]
  },
  {
   "cell_type": "code",
   "execution_count": null,
   "metadata": {},
   "outputs": [],
   "source": []
  },
  {
   "cell_type": "code",
   "execution_count": 4,
   "metadata": {},
   "outputs": [
    {
     "name": "stdout",
     "output_type": "stream",
     "text": [
      "loading data\n",
      "# classes: 2\n",
      "# maximum node tag: 3\n",
      "# data: 1113\n"
     ]
    }
   ],
   "source": [
    "list_g,num = load_data(\"/home/keshav/courses/master_thesis/original_graph_transformer/Graph-Transformer\",'PROTEINS',False)"
   ]
  },
  {
   "cell_type": "code",
   "execution_count": null,
   "metadata": {},
   "outputs": [],
   "source": []
  },
  {
   "cell_type": "code",
   "execution_count": null,
   "metadata": {},
   "outputs": [],
   "source": []
  },
  {
   "cell_type": "code",
   "execution_count": 5,
   "metadata": {},
   "outputs": [
    {
     "name": "stdout",
     "output_type": "stream",
     "text": [
      "[0, 11, 22, 32, 1, 23, 31, 41, 2, 24, 29, 34, 3, 4, 28, 38, 39, 14, 5, 6, 7, 26, 8, 19, 25, 9, 10, 35, 21, 20, 12, 33, 13, 15, 16, 17, 18, 36, 30, 40, 27, 37]\n",
      "[0, 0, 0, 0, 0, 0, 0, 0, 0, 0, 0, 0, 0, 0, 0, 0, 0, 0, 0, 0, 0, 0, 1, 1, 1, 1, 1, 1, 1, 1, 1, 1, 1, 1, 1, 1, 1, 1, 1, 1, 1, 1]\n",
      "(42, 3)\n"
     ]
    }
   ],
   "source": [
    "print(list_g[0].g.nodes())\n",
    "print(list_g[0].node_tags)\n",
    "print(list_g[0].node_features.shape)"
   ]
  },
  {
   "cell_type": "code",
   "execution_count": 6,
   "metadata": {},
   "outputs": [
    {
     "name": "stdout",
     "output_type": "stream",
     "text": [
      "[0, 1, 2, 3, 4, 5, 6, 14, 7, 8, 15, 9, 10, 18, 11, 12, 19, 17, 13, 16, 20, 24, 22, 21, 23, 25, 26]\n",
      "[0, 0, 0, 0, 0, 0, 0, 0, 0, 0, 0, 0, 0, 0, 1, 1, 1, 1, 1, 1, 1, 1, 1, 1, 1, 1, 1]\n",
      "(27, 3)\n"
     ]
    }
   ],
   "source": [
    "print(list_g[1].g.nodes())\n",
    "print(list_g[1].node_tags)\n",
    "print(list_g[1].node_features.shape)"
   ]
  },
  {
   "cell_type": "code",
   "execution_count": 7,
   "metadata": {},
   "outputs": [
    {
     "name": "stdout",
     "output_type": "stream",
     "text": [
      "[0, 1, 2, 9, 3, 4, 5, 6, 7, 8]\n",
      "<class 'list'>\n",
      "(10, 3)\n"
     ]
    }
   ],
   "source": [
    "print(list_g[2].g.nodes())\n",
    "print(type(list_g[2].node_tags))\n",
    "print(list_g[2].node_features.shape)"
   ]
  },
  {
   "cell_type": "code",
   "execution_count": 8,
   "metadata": {},
   "outputs": [],
   "source": [
    "import itertools\n",
    "from sklearn.neighbors import kneighbors_graph\n",
    "from collections import Counter\n",
    "def build_kneighbors(X, knn=True, n_neighbors=20):\n",
    "    if knn:\n",
    "        A = kneighbors_graph(X, n_neighbors, include_self=True)\n",
    "        A = np.array(A.todense())\n",
    "        A = (A + A.T)/2\n",
    "        A = (A >0).astype(int)\n",
    "    else:\n",
    "        A = pairwise_kernels(X, metric='rbf', gamma=1)\n",
    "    return A"
   ]
  },
  {
   "cell_type": "code",
   "execution_count": 9,
   "metadata": {},
   "outputs": [],
   "source": [
    "def add_multiple_layers(list_g,n_top_attrs = 2,knn_featrs = True,num_knn = 3):\n",
    "    for g in list_g:\n",
    "        g.knn_g = None\n",
    "        g.attr_gs = []\n",
    "        if(knn_featrs):\n",
    "            A = build_kneighbors(g.node_features,n_neighbors = num_knn)\n",
    "            g_knn = nx.convert_matrix.from_numpy_matrix(A)\n",
    "            g.knn_g = g_knn\n",
    "        if(n_top_attrs>0):\n",
    "            c = Counter(g.node_tags)\n",
    "            top_vals = c.most_common(n_top_attrs)\n",
    "            for value, count in top_vals:\n",
    "                G_cur = nx.Graph()\n",
    "                G_cur.add_nodes_from(g.g.nodes())\n",
    "                imp_nodes = [node for i,node in enumerate(g.g.nodes()) if (g.node_tags[i] == value)]\n",
    "\n",
    "                for u,v in itertools.combinations(imp_nodes, 2):\n",
    "                    G_cur.add_edge(u,v)\n",
    "                g.attr_gs.append(G_cur)\n",
    "                \n",
    "        \n",
    "add_multiple_layers(list_g, 1)"
   ]
  },
  {
   "cell_type": "code",
   "execution_count": 10,
   "metadata": {},
   "outputs": [
    {
     "name": "stdout",
     "output_type": "stream",
     "text": [
      "[<networkx.classes.graph.Graph object at 0x7fd08a3256d8>]\n"
     ]
    }
   ],
   "source": [
    "print(list_g[2].attr_gs)"
   ]
  },
  {
   "cell_type": "code",
   "execution_count": 11,
   "metadata": {},
   "outputs": [
    {
     "data": {
      "text/plain": [
       "<networkx.classes.graph.Graph at 0x7fd0bb6e5128>"
      ]
     },
     "execution_count": 11,
     "metadata": {},
     "output_type": "execute_result"
    }
   ],
   "source": [
    "list_g[2].knn_g"
   ]
  },
  {
   "cell_type": "code",
   "execution_count": 12,
   "metadata": {},
   "outputs": [
    {
     "data": {
      "text/plain": [
       "array([[ 0,  0,  0,  0,  4,  4,  5,  9,  9, 10,  1,  1,  1,  1,  1,  2,\n",
       "         2,  3,  6,  6,  7,  4,  5,  9, 10,  5, 10, 10,  7, 10,  7,  2,\n",
       "         3,  6,  7,  8,  3,  6,  6,  7,  8,  8],\n",
       "       [ 4,  5,  9, 10,  5, 10, 10,  7, 10,  7,  2,  3,  6,  7,  8,  3,\n",
       "         6,  6,  7,  8,  8,  0,  0,  0,  0,  4,  4,  5,  9,  9, 10,  1,\n",
       "         1,  1,  1,  1,  2,  2,  3,  6,  6,  7]], dtype=int32)"
      ]
     },
     "execution_count": 12,
     "metadata": {},
     "output_type": "execute_result"
    }
   ],
   "source": [
    "list_g[4].edge_mat"
   ]
  },
  {
   "cell_type": "code",
   "execution_count": 15,
   "metadata": {},
   "outputs": [],
   "source": [
    "import torch\n",
    "device = \"cpu\"\n",
    "def get_graphpool(batch_graph):\n",
    "    start_idx = [0]\n",
    "    # compute the padded neighbor list\n",
    "    for i, graph in enumerate(batch_graph):\n",
    "        start_idx.append(start_idx[i] + len(graph.g))\n",
    "\n",
    "    idx = []\n",
    "    elem = []\n",
    "    for i, graph in enumerate(batch_graph):\n",
    "        elem.extend([1] * len(graph.g))\n",
    "        idx.extend([[i, j] for j in range(start_idx[i], start_idx[i + 1], 1)])\n",
    "\n",
    "    elem = torch.FloatTensor(elem)\n",
    "    idx = torch.LongTensor(idx).transpose(0, 1)\n",
    "    graph_pool = torch.sparse.FloatTensor(idx, elem, torch.Size([len(batch_graph), start_idx[-1]]))\n",
    "\n",
    "    return graph_pool.to(device)"
   ]
  },
  {
   "cell_type": "code",
   "execution_count": 16,
   "metadata": {},
   "outputs": [],
   "source": [
    "val = get_graphpool(list_g)"
   ]
  },
  {
   "cell_type": "code",
   "execution_count": 22,
   "metadata": {},
   "outputs": [
    {
     "data": {
      "text/plain": [
       "torch.Size([10])"
      ]
     },
     "execution_count": 22,
     "metadata": {},
     "output_type": "execute_result"
    }
   ],
   "source": [
    "torch.zeros((10,10))[0,:].shape"
   ]
  },
  {
   "cell_type": "code",
   "execution_count": null,
   "metadata": {},
   "outputs": [],
   "source": []
  }
 ],
 "metadata": {
  "kernelspec": {
   "display_name": "Python 3",
   "language": "python",
   "name": "python3"
  },
  "language_info": {
   "codemirror_mode": {
    "name": "ipython",
    "version": 3
   },
   "file_extension": ".py",
   "mimetype": "text/x-python",
   "name": "python",
   "nbconvert_exporter": "python",
   "pygments_lexer": "ipython3",
   "version": "3.6.12"
  }
 },
 "nbformat": 4,
 "nbformat_minor": 4
}
