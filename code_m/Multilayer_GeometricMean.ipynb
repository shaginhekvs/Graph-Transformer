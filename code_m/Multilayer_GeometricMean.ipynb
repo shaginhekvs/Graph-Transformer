{
 "cells": [
  {
   "cell_type": "code",
   "execution_count": 1,
   "metadata": {},
   "outputs": [],
   "source": [
    "import numpy as np\n",
    "import networkx as nx\n",
    "from matplotlib import pyplot as plt\n",
    "import scipy\n",
    "import pickle\n",
    "import pandas as pd\n",
    "import seaborn as sns\n",
    "import math\n",
    "import numpy.linalg as lg\n",
    "import scipy.linalg as slg\n",
    "\n",
    "from sklearn.neighbors import kneighbors_graph\n",
    "from sklearn.metrics.cluster import normalized_mutual_info_score as nmi\n",
    "from sklearn.metrics.cluster import adjusted_rand_score as ri\n",
    "from sklearn.metrics import accuracy_score\n",
    "from sklearn.cluster import KMeans, SpectralClustering\n",
    "import itertools\n",
    "from scipy.sparse import csr_matrix\n",
    "import scipy.io \n",
    "\n",
    "%load_ext autoreload\n",
    "%autoreload 2"
   ]
  },
  {
   "cell_type": "markdown",
   "metadata": {},
   "source": [
    "#### Tools for plotting and evaluation"
   ]
  },
  {
   "cell_type": "code",
   "execution_count": 2,
   "metadata": {},
   "outputs": [],
   "source": [
    "def purity_score(y_true, y_pred):\n",
    "    \"\"\"Purity score\n",
    "        Args:\n",
    "            y_true(np.ndarray): n*1 matrix Ground truth labels\n",
    "            y_pred(np.ndarray): n*1 matrix Predicted clusters\n",
    "\n",
    "        Returns:\n",
    "            float: Purity score\n",
    "    \"\"\"\n",
    "    # matrix which will hold the majority-voted labels\n",
    "    y_voted_labels = np.zeros(y_true.shape)\n",
    "    # Ordering labels\n",
    "    ## Labels might be missing e.g with set like 0,2 where 1 is missing\n",
    "    ## First find the unique labels, then map the labels to an ordered set\n",
    "    ## 0,2 should become 0,1\n",
    "    labels = np.unique(y_true)\n",
    "    ordered_labels = np.arange(labels.shape[0])\n",
    "    for k in range(labels.shape[0]):\n",
    "        y_true[y_true==labels[k]] = ordered_labels[k]\n",
    "    # Update unique labels\n",
    "    labels = np.unique(y_true)\n",
    "    # We set the number of bins to be n_classes+2 so that \n",
    "    # we count the actual occurence of classes between two consecutive bins\n",
    "    # the bigger being excluded [bin_i, bin_i+1[\n",
    "    bins = np.concatenate((labels, [np.max(labels)+1]), axis=0)\n",
    "\n",
    "    for cluster in np.unique(y_pred):\n",
    "        hist, _ = np.histogram(y_true[y_pred==cluster], bins=bins)\n",
    "        # Find the most present label in the cluster\n",
    "        winner = np.argmax(hist)\n",
    "        y_voted_labels[y_pred==cluster] = winner\n",
    "\n",
    "    return accuracy_score(y_true, y_voted_labels)\n",
    "\n",
    "\n",
    "def accuracy_clustering(y_true, y_pred):\n",
    "    \n",
    "    # Ordering labels\n",
    "    labels = np.unique(y_true)\n",
    "    ordered_labels = np.arange(labels.shape[0])\n",
    "    for k in range(labels.shape[0]):\n",
    "        y_true[y_true==labels[k]] = ordered_labels[k]\n",
    "    labels = np.unique(y_true)\n",
    "    \n",
    "    scores = []\n",
    "    \n",
    "    # Try all the possible permutations\n",
    "    permutations = list(itertools.permutations(labels))\n",
    "    for perm in permutations:\n",
    "        y_permuted = np.zeros_like(y_true)\n",
    "        for i,k in enumerate(perm):\n",
    "            y_permuted[y_pred==k] = labels[i]\n",
    "        score = accuracy_score(y_true, y_permuted)\n",
    "        scores.append(score)\n",
    "    \n",
    "    return max(scores)"
   ]
  },
  {
   "cell_type": "code",
   "execution_count": 3,
   "metadata": {},
   "outputs": [],
   "source": [
    "def print_evaluation(y_true, L, K):\n",
    "\n",
    "    _, V   = scipy.linalg.eigh(L)\n",
    "    E      = V[:,:K]\n",
    "    y = KMeans(K, random_state=42).fit_predict(E)\n",
    "\n",
    "    acc_spec = accuracy_clustering(y_true, y)\n",
    "    pu_spec        = purity_score(y_true, y)\n",
    "    nmi_score_spec = nmi(y_true.ravel(), y.ravel())#, average_method='geometric')\n",
    "    ri_score_spec  = ri(y_true.ravel(), y.ravel())\n",
    "\n",
    "    print('Accuracy', acc_spec, 'Purity', pu_spec, 'NMI', nmi_score_spec, 'RI', ri_score_spec)\n",
    "    return y"
   ]
  },
  {
   "cell_type": "code",
   "execution_count": 4,
   "metadata": {},
   "outputs": [],
   "source": [
    "def print_evaluation_from_embeddings(y_true, embeddings, K):\n",
    "\n",
    "    y = KMeans(K, random_state=42).fit_predict(embeddings)\n",
    "\n",
    "    acc_spec = accuracy_clustering(y_true, y)\n",
    "    pu_spec        = purity_score(y_true, y)\n",
    "    nmi_score_spec = nmi(y_true.ravel(), y.ravel())#, average_method='geometric')\n",
    "    ri_score_spec  = ri(y_true.ravel(), y.ravel())\n",
    "\n",
    "    print('Accuracy', acc_spec, 'Purity', pu_spec, 'NMI', nmi_score_spec, 'RI', ri_score_spec)\n",
    "    return y"
   ]
  },
  {
   "cell_type": "markdown",
   "metadata": {},
   "source": [
    "## -- Graph generation"
   ]
  },
  {
   "cell_type": "code",
   "execution_count": 5,
   "metadata": {},
   "outputs": [],
   "source": [
    "def read_data(name):\n",
    "    data_file = scipy.io.loadmat('data/'+name+'.mat')\n",
    "    \n",
    "    input_data = data_file['data']\n",
    "    labels     = (data_file['truelabel'][0][0])\n",
    "    \n",
    "    nb_view    = len(input_data[0])\n",
    "    N          = labels.ravel().shape[0]\n",
    "    \n",
    "    adjancency = np.zeros((N, N, nb_view))\n",
    "    laplacian  = np.zeros((N, N, nb_view))\n",
    "    \n",
    "    for i in range(nb_view): \n",
    "        aux = input_data[0][i]\n",
    "        if type(aux) is scipy.sparse.csc.csc_matrix:\n",
    "            aux = aux.toarray()\n",
    "        adjancency[:,:,i] = build_kneighbors(aux.transpose([1,0]), n_neighbors=5)\n",
    "        laplacian[:,:,i] = sgwt_raw_laplacian(adjancency[:,:,i])\n",
    "        \n",
    "        if i==0:\n",
    "            signal = aux.transpose([1,0])\n",
    "        else:                           \n",
    "            signal = np.concatenate((signal, aux.transpose([1,0])), axis=1)\n",
    "\n",
    "    y_true = labels.ravel()  \n",
    "    K      = len(np.unique(y_true))\n",
    "    \n",
    "    n_neighbors = 5\n",
    "    \n",
    "    return adjancency, laplacian, signal, y_true, K, n_neighbors"
   ]
  },
  {
   "cell_type": "code",
   "execution_count": 6,
   "metadata": {},
   "outputs": [],
   "source": [
    "def sgwt_raw_laplacian(B):\n",
    "    B         = B.T;\n",
    "    N         = B.shape[0] \n",
    "    degrees   = B.sum(axis=1)\n",
    "    diagw     = np.diag(B)\n",
    "\n",
    "    nj2,ni2   = B.nonzero() \n",
    "    w2        = np.extract(B!=0,B)\n",
    "    ndind     = (ni2!=nj2).nonzero()\n",
    "    ni        = ni2[ndind]\n",
    "    nj        = nj2[ndind]\n",
    "    w         = w2[ndind]\n",
    "    di        = np.arange(0,N)\n",
    "    #dL        = 1 - diagw / degrees       \n",
    "    #dL[degrees==0] = 0\n",
    "    #ndL       = -w / (np.sqrt(degrees[ni]*degrees[ni])).flatten() \n",
    "    L         = csr_matrix((np.hstack((-w,degrees-diagw)), (np.hstack((ni,di)), np.hstack((nj,di)))), shape=(N, N)).toarray()\n",
    "\n",
    "    return L\n",
    "\n",
    "def build_kneighbors(X, knn=True, n_neighbors=20):\n",
    "    if knn:\n",
    "        A = kneighbors_graph(X, n_neighbors, include_self=False)\n",
    "        A = np.array(A.todense())\n",
    "        A = (A + A.T)/2\n",
    "        A = (A >0).astype(int)\n",
    "    else:\n",
    "        A = pairwise_kernels(X, metric='rbf', gamma=1)\n",
    "    return A\n",
    "\n",
    "\n",
    "def draw_features(n_samples, n_dims, n_clusters, mean_scale, cov_scale, num=5):\n",
    "    \n",
    "    clusters = []\n",
    "    for i in range(n_clusters):\n",
    "        mean = mean_scale * np.random.randn(n_dims)\n",
    "        cov = 0\n",
    "        for i in range(num):\n",
    "            cov_mat = cov_scale/num * np.random.randn(n_dims, n_dims)\n",
    "            cov = cov + cov_mat.T @ cov_mat\n",
    "        X = np.random.multivariate_normal(mean, cov, n_samples)\n",
    "        clusters.append(X)\n",
    "    return tuple(clusters)\n",
    "\n",
    "def build_multilayer_graph(graph_type = 'gaussian', n=50, K=5, show_graph=True, seed_nb = 50):\n",
    "    # n: total number of nodes\n",
    "    # m: nb of clusters \n",
    "    # signals: dimension of signals \n",
    "    \n",
    "    # generate a graph\n",
    "                \n",
    "    y_true = None\n",
    "    X = None \n",
    "               \n",
    "    if graph_type =='gaussian':\n",
    "    \n",
    "        np.random.seed(seed_nb)\n",
    "\n",
    "        mean_scale = 3\n",
    "        cov_scale = 3\n",
    "\n",
    "        X11, X12, X13, X14, X15 = draw_features(int(n/K), 2, K, mean_scale, cov_scale)\n",
    "        X21, X22, X23, X24, X25 = draw_features(int(n/K), 2, K, mean_scale, cov_scale)\n",
    "        X31, X32, X33, X34, X35 = draw_features(int(n/K), 2, K, mean_scale, cov_scale)\n",
    "        X41, X42, X43, X44, X45 = draw_features(int(n/K), 2, K, mean_scale, cov_scale)\n",
    "\n",
    "        sig1 = np.concatenate([X11,X12,X13,X14,X15], axis=0)\n",
    "        sig2 = np.concatenate([X21,X22,X23,X24,X25], axis=0)\n",
    "        sig3 = np.concatenate([X31,X32,X33,X34,X35], axis=0)\n",
    "        sig4 = np.concatenate([X41,X42,X43,X34,X45], axis=0)\n",
    "        signals  = np.stack([sig1, sig2, sig3, sig4], axis=0)\n",
    "        X = signals/np.max(signals)\n",
    "\n",
    "        y_true = np.zeros(n)\n",
    "        Nodes = int(n/K)\n",
    "        y_true[       :1*Nodes] = 0\n",
    "        y_true[1*Nodes:2*Nodes] = 1\n",
    "        y_true[2*Nodes:3*Nodes] = 2\n",
    "        y_true[3*Nodes:4*Nodes] = 3\n",
    "        y_true[4*Nodes:5*Nodes] = 4\n",
    "\n",
    "        # Graph construction\n",
    "        L = np.zeros((n,n,4))\n",
    "        W = np.zeros((n,n,4))\n",
    "        for i in range(4):\n",
    "            lap = build_kneighbors(signals[i], n_neighbors=10)\n",
    "            adj = lap.copy()\n",
    "            lap = sgwt_raw_laplacian(lap)\n",
    "            #adj = - lap.copy()\n",
    "            np.fill_diagonal(adj, 0)\n",
    "            \n",
    "            L[:,:,i] = lap\n",
    "            W[:,:,i] = adj\n",
    "        \n",
    "        if show_graph:\n",
    "            plt.figure(figsize=(15,3))\n",
    "\n",
    "            alpha = 0.4\n",
    "            markers = ['o', 's', '^', 'X', '*']\n",
    "            size = 10\n",
    "\n",
    "            plt.subplot(1,4,1)\n",
    "            for i, data in enumerate([X11, X12, X13, X14, X15]):\n",
    "                plt.plot(data[:,0], data[:,1], markers[i], alpha=alpha, ms=size, mew=2)\n",
    "\n",
    "            plt.subplot(1,4,2)\n",
    "            for i, data in enumerate([X21, X22, X23, X24, X25]):\n",
    "                plt.plot(data[:,0], data[:,1], markers[i], alpha=alpha, ms=size, mew=2)\n",
    "\n",
    "            plt.subplot(1,4,3)\n",
    "            for i, data in enumerate([X31, X32, X33, X34, X35]):\n",
    "                plt.plot(data[:,0], data[:,1], markers[i], alpha=alpha, ms=size, mew=2)\n",
    "\n",
    "            plt.subplot(1,4,4)\n",
    "            for i, data in enumerate([X41, X42, X43, X44, X45]):\n",
    "                plt.plot(data[:,0], data[:,1], markers[i], alpha=alpha, ms=size, mew=2)\n",
    "                \n",
    "    if graph_type in ['NGs']:\n",
    "        W, L, X, y_true, K, _ = read_data(graph_type)\n",
    "    \n",
    "    return L, y_true, K, L.shape[0], L.shape[2], X, W"
   ]
  },
  {
   "cell_type": "code",
   "execution_count": 7,
   "metadata": {},
   "outputs": [
    {
     "name": "stdout",
     "output_type": "stream",
     "text": [
      "500\n",
      "(500, 500, 3)\n"
     ]
    }
   ],
   "source": [
    "# graph_type = gaussian or NGs\n",
    "\n",
    "n = 200\n",
    "K = 5\n",
    "L, labels, K, n, S, X, adj = build_multilayer_graph(graph_type = 'NGs', n=n, K=K, \n",
    "                                            show_graph=True, seed_nb = 60)\n",
    "print(n)\n",
    "print(L.shape)"
   ]
  },
  {
   "cell_type": "code",
   "execution_count": null,
   "metadata": {},
   "outputs": [],
   "source": []
  },
  {
   "cell_type": "code",
   "execution_count": null,
   "metadata": {},
   "outputs": [],
   "source": []
  },
  {
   "cell_type": "markdown",
   "metadata": {},
   "source": [
    "## -- Arithmetic mean"
   ]
  },
  {
   "cell_type": "code",
   "execution_count": 8,
   "metadata": {},
   "outputs": [
    {
     "data": {
      "image/png": "[encoded data removed]",
      "text/plain": [
       "<Figure size 360x360 with 1 Axes>"
      ]
     },
     "metadata": {
      "needs_background": "light"
     },
     "output_type": "display_data"
    }
   ],
   "source": [
    "L_arithmetic = np.mean(L, axis=2)\n",
    "\n",
    "plt.figure(figsize=(5,5))\n",
    "plt.imshow(L_arithmetic)\n",
    "plt.show()"
   ]
  },
  {
   "cell_type": "code",
   "execution_count": 9,
   "metadata": {},
   "outputs": [
    {
     "name": "stdout",
     "output_type": "stream",
     "text": [
      "Accuracy 0.896 Purity 0.896 NMI 0.7477906112598245 RI 0.7568062007460111\n"
     ]
    }
   ],
   "source": [
    "print_evaluation(labels, L_arithmetic, K);"
   ]
  },
  {
   "cell_type": "markdown",
   "metadata": {},
   "source": [
    "## -- Geometric mean"
   ]
  },
  {
   "cell_type": "code",
   "execution_count": 10,
   "metadata": {},
   "outputs": [],
   "source": [
    "import pyriemann"
   ]
  },
  {
   "cell_type": "code",
   "execution_count": 11,
   "metadata": {},
   "outputs": [],
   "source": [
    "L_reg = np.zeros((S, n, n))\n",
    "\n",
    "for i in range(S):\n",
    "    L_reg[i,:,:] = L[:,:,i] + 0.001*np.eye(n)\n",
    "    \n",
    "L_geometric_mean = pyriemann.utils.mean.mean_riemann(L_reg)"
   ]
  },
  {
   "cell_type": "code",
   "execution_count": 12,
   "metadata": {},
   "outputs": [
    {
     "data": {
      "image/png": "[encoded data removed]",
      "text/plain": [
       "<Figure size 360x360 with 1 Axes>"
      ]
     },
     "metadata": {
      "needs_background": "light"
     },
     "output_type": "display_data"
    }
   ],
   "source": [
    "plt.figure(figsize=(5,5))\n",
    "plt.imshow(L_geometric_mean)\n",
    "plt.show()"
   ]
  },
  {
   "cell_type": "code",
   "execution_count": 13,
   "metadata": {},
   "outputs": [
    {
     "name": "stdout",
     "output_type": "stream",
     "text": [
      "Accuracy 0.92 Purity 0.92 NMI 0.7975573757848835 RI 0.8097084145708032\n"
     ]
    }
   ],
   "source": [
    "print_evaluation(labels, L_geometric_mean, K);"
   ]
  },
  {
   "cell_type": "code",
   "execution_count": 30,
   "metadata": {},
   "outputs": [
    {
     "data": {
      "text/plain": [
       "0.0"
      ]
     },
     "execution_count": 30,
     "metadata": {},
     "output_type": "execute_result"
    }
   ],
   "source": [
    "adj[:,:,0].min()"
   ]
  },
  {
   "cell_type": "code",
   "execution_count": 31,
   "metadata": {},
   "outputs": [
    {
     "data": {
      "text/plain": [
       "array([0., 0., 0., 0., 0., 0., 0., 0., 0., 0., 0., 0., 0., 0., 0., 0., 0.,\n",
       "       0., 0., 0., 0., 0., 0., 0., 0., 0., 0., 0., 0., 0., 0., 0., 0., 0.,\n",
       "       0., 0., 0., 0., 0., 0., 1., 1., 1., 1., 1., 1., 1., 1., 1., 1., 1.,\n",
       "       1., 1., 1., 1., 1., 1., 1., 1., 1., 1., 1., 1., 1., 1., 1., 1., 1.,\n",
       "       1., 1., 1., 1., 1., 1., 1., 1., 1., 1., 1., 1., 2., 2., 2., 2., 2.,\n",
       "       2., 2., 2., 2., 2., 2., 2., 2., 2., 2., 2., 2., 2., 2., 2., 2., 2.,\n",
       "       2., 2., 2., 2., 2., 2., 2., 2., 2., 2., 2., 2., 2., 2., 2., 2., 2.,\n",
       "       2., 3., 3., 3., 3., 3., 3., 3., 3., 3., 3., 3., 3., 3., 3., 3., 3.,\n",
       "       3., 3., 3., 3., 3., 3., 3., 3., 3., 3., 3., 3., 3., 3., 3., 3., 3.,\n",
       "       3., 3., 3., 3., 3., 3., 3., 4., 4., 4., 4., 4., 4., 4., 4., 4., 4.,\n",
       "       4., 4., 4., 4., 4., 4., 4., 4., 4., 4., 4., 4., 4., 4., 4., 4., 4.,\n",
       "       4., 4., 4., 4., 4., 4., 4., 4., 4., 4., 4., 4., 4.])"
      ]
     },
     "execution_count": 31,
     "metadata": {},
     "output_type": "execute_result"
    }
   ],
   "source": [
    "labels"
   ]
  },
  {
   "cell_type": "code",
   "execution_count": null,
   "metadata": {},
   "outputs": [],
   "source": []
  }
 ],
 "metadata": {
  "kernelspec": {
   "display_name": "Python 3",
   "language": "python",
   "name": "python3"
  },
  "language_info": {
   "codemirror_mode": {
    "name": "ipython",
    "version": 3
   },
   "file_extension": ".py",
   "mimetype": "text/x-python",
   "name": "python",
   "nbconvert_exporter": "python",
   "pygments_lexer": "ipython3",
   "version": "3.6.12"
  }
 },
 "nbformat": 4,
 "nbformat_minor": 2
}
